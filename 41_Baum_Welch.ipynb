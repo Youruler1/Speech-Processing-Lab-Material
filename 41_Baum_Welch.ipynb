{
  "nbformat": 4,
  "nbformat_minor": 0,
  "metadata": {
    "colab": {
      "provenance": [],
      "include_colab_link": true
    },
    "kernelspec": {
      "name": "python3",
      "display_name": "Python 3"
    },
    "language_info": {
      "name": "python"
    }
  },
  "cells": [
    {
      "cell_type": "markdown",
      "metadata": {
        "id": "view-in-github",
        "colab_type": "text"
      },
      "source": [
        "<a href=\"https://colab.research.google.com/github/Youruler1/Speech-Processing-Lab-Material/blob/main/Baum_Welch_2.ipynb\" target=\"_parent\"><img src=\"https://colab.research.google.com/assets/colab-badge.svg\" alt=\"Open In Colab\"/></a>"
      ]
    },
    {
      "cell_type": "code",
      "execution_count": null,
      "metadata": {
        "id": "a8ZRosFmRqDA"
      },
      "outputs": [],
      "source": [
        "import numpy as np\n",
        "transition=np.array([[0.3,0.7],[0.9,0.1]])\n",
        "emission=np.array([[0.4,0.6],[0.5,0.5]])\n",
        "initial=np.array([0.85,0.15])\n",
        "states = ['s','t']\n",
        "states_dic = {'s':0, 't':1}\n",
        "sequence_syms = {'A':0,'B':1}\n",
        "sequence='ABBA'"
      ]
    },
    {
      "cell_type": "code",
      "source": [
        "def forward_prob():\n",
        "  fwd_prob=np.zeros((len(states),len(sequence)))\n",
        "  i=0#initialising the timestamp\n",
        "  for val in sequence:\n",
        "    if(i<len(sequence)):\n",
        "      for j in range(len(states)):\n",
        "        if(i==0):\n",
        "          fwd_prob[j,i]=initial[j]*emission[j,sequence_syms[val]]#probability at timestamp 0\n",
        "        else:\n",
        "          values=[fwd_prob[k, i - 1] * emission[j, sequence_syms[val]] * transition[k, j] for k in\n",
        "                            range(len(states))]\n",
        "          fwd_prob[j,i]=sum(values)\n",
        "      i=i+1\n",
        "  return fwd_prob\n"
      ],
      "metadata": {
        "id": "6bXcz8WbU5YU"
      },
      "execution_count": null,
      "outputs": []
    },
    {
      "cell_type": "code",
      "source": [
        "forward_prob()"
      ],
      "metadata": {
        "colab": {
          "base_uri": "https://localhost:8080/"
        },
        "id": "vj3hcOhCWm4B",
        "outputId": "1723d169-1d08-4f5e-e276-f4c023287c1d"
      },
      "execution_count": null,
      "outputs": [
        {
          "output_type": "execute_result",
          "data": {
            "text/plain": [
              "array([[0.34      , 0.1017    , 0.084591  , 0.02517462],\n",
              "       [0.075     , 0.12275   , 0.0417325 , 0.03169347]])"
            ]
          },
          "metadata": {},
          "execution_count": 6
        }
      ]
    },
    {
      "cell_type": "code",
      "source": [
        "import numpy as np\n",
        "\n",
        "def backward_prob():\n",
        "    node_values_bwd = np.zeros((len(states), len(sequence)))\n",
        "    node_values_bwd[:, -1] = 1\n",
        "    for i in range(len(sequence) - 2, -1, -1):\n",
        "        for j in range(len(states)):\n",
        "            values = [\n",
        "                node_values_bwd[k, i+1] *\n",
        "                emission[k, sequence_syms[sequence[i+1]]] *\n",
        "                transition[j, k]\n",
        "                for k in range(len(states))\n",
        "            ]\n",
        "            node_values_bwd[j, i] = sum(values)\n",
        "\n",
        "    return node_values_bwd"
      ],
      "metadata": {
        "id": "ZrNRDr7ZXT4G"
      },
      "execution_count": null,
      "outputs": []
    },
    {
      "cell_type": "code",
      "source": [
        "def shee_probs(forward, backward, forward_val):\n",
        "\n",
        "    shee_probabilities = np.zeros((len(states), len(test_sequence)-1, len(states)))\n",
        "\n",
        "    for i in range(len(test_sequence)-1):\n",
        "        for j in range(len(states)):\n",
        "            for k in range(len(states)):\n",
        "                si_probabilities[j,i,k] = ( forward[j,i] * backward[k,i+1] * transition[j,k] * emission[k,sequence_syms[test_sequence[i+1]]] ) \\\n",
        "                                                    / forward_val\n",
        "    return shee_probabilities\n"
      ],
      "metadata": {
        "id": "HcQ_kez-Wj2Y"
      },
      "execution_count": null,
      "outputs": []
    },
    {
      "cell_type": "code",
      "source": [
        "def eta_prob():\n",
        "  eta_probabilities=np.zeros((len(states),len(test_sequence)-1))\n",
        "  for i in range(len(test_sequence)-1):\n",
        "    for j in range(len(states)):\n",
        "      eta_probabilities[j,i]=sum([shee_probabilities[j,i,k] for k in range(len(states))])"
      ],
      "metadata": {
        "id": "XoB91rq4X7v_"
      },
      "execution_count": null,
      "outputs": []
    },
    {
      "cell_type": "code",
      "source": [],
      "metadata": {
        "id": "0ZjS_lR4YIs4"
      },
      "execution_count": null,
      "outputs": []
    }
  ]
}
